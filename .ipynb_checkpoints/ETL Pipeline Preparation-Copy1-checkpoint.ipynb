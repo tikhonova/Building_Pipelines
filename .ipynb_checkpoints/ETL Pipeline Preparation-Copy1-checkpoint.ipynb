{
 "cells": [
  {
   "cell_type": "markdown",
   "metadata": {},
   "source": [
    "# ETL Pipeline Preparation\n",
    "Follow the instructions below to help you create your ETL pipeline.\n",
    "### 1. Import libraries and load datasets.\n",
    "- Import Python libraries\n",
    "- Load `messages.csv` into a dataframe and inspect the first few lines.\n",
    "- Load `categories.csv` into a dataframe and inspect the first few lines."
   ]
  },
  {
   "cell_type": "code",
   "execution_count": 1,
   "metadata": {},
   "outputs": [],
   "source": [
    "# import libraries\n",
    "import pandas as pd\n",
    "pd.set_option('display.max_rows', 500)\n",
    "pd.set_option('display.max_columns', 500)\n",
    "pd.set_option('display.width', 1000)\n"
   ]
  },
  {
   "cell_type": "code",
   "execution_count": 2,
   "metadata": {
    "scrolled": true
   },
   "outputs": [
    {
     "data": {
      "text/html": [
       "<div>\n",
       "<style scoped>\n",
       "    .dataframe tbody tr th:only-of-type {\n",
       "        vertical-align: middle;\n",
       "    }\n",
       "\n",
       "    .dataframe tbody tr th {\n",
       "        vertical-align: top;\n",
       "    }\n",
       "\n",
       "    .dataframe thead th {\n",
       "        text-align: right;\n",
       "    }\n",
       "</style>\n",
       "<table border=\"1\" class=\"dataframe\">\n",
       "  <thead>\n",
       "    <tr style=\"text-align: right;\">\n",
       "      <th></th>\n",
       "      <th>id</th>\n",
       "      <th>message</th>\n",
       "      <th>original</th>\n",
       "      <th>genre</th>\n",
       "    </tr>\n",
       "  </thead>\n",
       "  <tbody>\n",
       "    <tr>\n",
       "      <th>0</th>\n",
       "      <td>2</td>\n",
       "      <td>Weather update - a cold front from Cuba that c...</td>\n",
       "      <td>Un front froid se retrouve sur Cuba ce matin. ...</td>\n",
       "      <td>direct</td>\n",
       "    </tr>\n",
       "    <tr>\n",
       "      <th>1</th>\n",
       "      <td>7</td>\n",
       "      <td>Is the Hurricane over or is it not over</td>\n",
       "      <td>Cyclone nan fini osinon li pa fini</td>\n",
       "      <td>direct</td>\n",
       "    </tr>\n",
       "    <tr>\n",
       "      <th>2</th>\n",
       "      <td>8</td>\n",
       "      <td>Looking for someone but no name</td>\n",
       "      <td>Patnm, di Maryani relem pou li banm nouvel li ...</td>\n",
       "      <td>direct</td>\n",
       "    </tr>\n",
       "    <tr>\n",
       "      <th>3</th>\n",
       "      <td>9</td>\n",
       "      <td>UN reports Leogane 80-90 destroyed. Only Hospi...</td>\n",
       "      <td>UN reports Leogane 80-90 destroyed. Only Hospi...</td>\n",
       "      <td>direct</td>\n",
       "    </tr>\n",
       "    <tr>\n",
       "      <th>4</th>\n",
       "      <td>12</td>\n",
       "      <td>says: west side of Haiti, rest of the country ...</td>\n",
       "      <td>facade ouest d Haiti et le reste du pays aujou...</td>\n",
       "      <td>direct</td>\n",
       "    </tr>\n",
       "  </tbody>\n",
       "</table>\n",
       "</div>"
      ],
      "text/plain": [
       "   id                                            message                                           original   genre\n",
       "0   2  Weather update - a cold front from Cuba that c...  Un front froid se retrouve sur Cuba ce matin. ...  direct\n",
       "1   7            Is the Hurricane over or is it not over                 Cyclone nan fini osinon li pa fini  direct\n",
       "2   8                    Looking for someone but no name  Patnm, di Maryani relem pou li banm nouvel li ...  direct\n",
       "3   9  UN reports Leogane 80-90 destroyed. Only Hospi...  UN reports Leogane 80-90 destroyed. Only Hospi...  direct\n",
       "4  12  says: west side of Haiti, rest of the country ...  facade ouest d Haiti et le reste du pays aujou...  direct"
      ]
     },
     "execution_count": 2,
     "metadata": {},
     "output_type": "execute_result"
    }
   ],
   "source": [
    "# load messages dataset\n",
    "messages = pd.read_csv(\"messages.csv\")\n",
    "messages.head()"
   ]
  },
  {
   "cell_type": "code",
   "execution_count": 3,
   "metadata": {},
   "outputs": [
    {
     "data": {
      "text/plain": [
       "(26248, 4)"
      ]
     },
     "execution_count": 3,
     "metadata": {},
     "output_type": "execute_result"
    }
   ],
   "source": [
    "messages.shape"
   ]
  },
  {
   "cell_type": "code",
   "execution_count": 4,
   "metadata": {
    "scrolled": true
   },
   "outputs": [
    {
     "data": {
      "text/html": [
       "<div>\n",
       "<style scoped>\n",
       "    .dataframe tbody tr th:only-of-type {\n",
       "        vertical-align: middle;\n",
       "    }\n",
       "\n",
       "    .dataframe tbody tr th {\n",
       "        vertical-align: top;\n",
       "    }\n",
       "\n",
       "    .dataframe thead th {\n",
       "        text-align: right;\n",
       "    }\n",
       "</style>\n",
       "<table border=\"1\" class=\"dataframe\">\n",
       "  <thead>\n",
       "    <tr style=\"text-align: right;\">\n",
       "      <th></th>\n",
       "      <th>id</th>\n",
       "      <th>categories</th>\n",
       "    </tr>\n",
       "  </thead>\n",
       "  <tbody>\n",
       "    <tr>\n",
       "      <th>0</th>\n",
       "      <td>2</td>\n",
       "      <td>related-1;request-0;offer-0;aid_related-0;medi...</td>\n",
       "    </tr>\n",
       "    <tr>\n",
       "      <th>1</th>\n",
       "      <td>7</td>\n",
       "      <td>related-1;request-0;offer-0;aid_related-1;medi...</td>\n",
       "    </tr>\n",
       "    <tr>\n",
       "      <th>2</th>\n",
       "      <td>8</td>\n",
       "      <td>related-1;request-0;offer-0;aid_related-0;medi...</td>\n",
       "    </tr>\n",
       "    <tr>\n",
       "      <th>3</th>\n",
       "      <td>9</td>\n",
       "      <td>related-1;request-1;offer-0;aid_related-1;medi...</td>\n",
       "    </tr>\n",
       "    <tr>\n",
       "      <th>4</th>\n",
       "      <td>12</td>\n",
       "      <td>related-1;request-0;offer-0;aid_related-0;medi...</td>\n",
       "    </tr>\n",
       "  </tbody>\n",
       "</table>\n",
       "</div>"
      ],
      "text/plain": [
       "   id                                         categories\n",
       "0   2  related-1;request-0;offer-0;aid_related-0;medi...\n",
       "1   7  related-1;request-0;offer-0;aid_related-1;medi...\n",
       "2   8  related-1;request-0;offer-0;aid_related-0;medi...\n",
       "3   9  related-1;request-1;offer-0;aid_related-1;medi...\n",
       "4  12  related-1;request-0;offer-0;aid_related-0;medi..."
      ]
     },
     "execution_count": 4,
     "metadata": {},
     "output_type": "execute_result"
    }
   ],
   "source": [
    "# load categories dataset\n",
    "categories = pd.read_csv(\"categories.csv\")\n",
    "categories.head()"
   ]
  },
  {
   "cell_type": "code",
   "execution_count": 5,
   "metadata": {},
   "outputs": [
    {
     "data": {
      "text/plain": [
       "(26248, 2)"
      ]
     },
     "execution_count": 5,
     "metadata": {},
     "output_type": "execute_result"
    }
   ],
   "source": [
    "categories.shape"
   ]
  },
  {
   "cell_type": "code",
   "execution_count": 6,
   "metadata": {},
   "outputs": [
    {
     "name": "stdout",
     "output_type": "stream",
     "text": [
      "Matches: False\n"
     ]
    }
   ],
   "source": [
    "df3 = messages.equals(categories)\n",
    "print('Matches:', df3)"
   ]
  },
  {
   "cell_type": "markdown",
   "metadata": {},
   "source": [
    "### 2. Merge datasets.\n",
    "- Merge the messages and categories datasets using the common id\n",
    "- Assign this combined dataset to `df`, which will be cleaned in the following steps"
   ]
  },
  {
   "cell_type": "code",
   "execution_count": 7,
   "metadata": {
    "scrolled": true
   },
   "outputs": [
    {
     "data": {
      "text/html": [
       "<div>\n",
       "<style scoped>\n",
       "    .dataframe tbody tr th:only-of-type {\n",
       "        vertical-align: middle;\n",
       "    }\n",
       "\n",
       "    .dataframe tbody tr th {\n",
       "        vertical-align: top;\n",
       "    }\n",
       "\n",
       "    .dataframe thead th {\n",
       "        text-align: right;\n",
       "    }\n",
       "</style>\n",
       "<table border=\"1\" class=\"dataframe\">\n",
       "  <thead>\n",
       "    <tr style=\"text-align: right;\">\n",
       "      <th></th>\n",
       "      <th>id</th>\n",
       "      <th>categories</th>\n",
       "      <th>message</th>\n",
       "      <th>original</th>\n",
       "      <th>genre</th>\n",
       "    </tr>\n",
       "  </thead>\n",
       "  <tbody>\n",
       "    <tr>\n",
       "      <th>0</th>\n",
       "      <td>2</td>\n",
       "      <td>related-1;request-0;offer-0;aid_related-0;medi...</td>\n",
       "      <td>Weather update - a cold front from Cuba that c...</td>\n",
       "      <td>Un front froid se retrouve sur Cuba ce matin. ...</td>\n",
       "      <td>direct</td>\n",
       "    </tr>\n",
       "    <tr>\n",
       "      <th>1</th>\n",
       "      <td>7</td>\n",
       "      <td>related-1;request-0;offer-0;aid_related-1;medi...</td>\n",
       "      <td>Is the Hurricane over or is it not over</td>\n",
       "      <td>Cyclone nan fini osinon li pa fini</td>\n",
       "      <td>direct</td>\n",
       "    </tr>\n",
       "    <tr>\n",
       "      <th>2</th>\n",
       "      <td>8</td>\n",
       "      <td>related-1;request-0;offer-0;aid_related-0;medi...</td>\n",
       "      <td>Looking for someone but no name</td>\n",
       "      <td>Patnm, di Maryani relem pou li banm nouvel li ...</td>\n",
       "      <td>direct</td>\n",
       "    </tr>\n",
       "    <tr>\n",
       "      <th>3</th>\n",
       "      <td>9</td>\n",
       "      <td>related-1;request-1;offer-0;aid_related-1;medi...</td>\n",
       "      <td>UN reports Leogane 80-90 destroyed. Only Hospi...</td>\n",
       "      <td>UN reports Leogane 80-90 destroyed. Only Hospi...</td>\n",
       "      <td>direct</td>\n",
       "    </tr>\n",
       "    <tr>\n",
       "      <th>4</th>\n",
       "      <td>12</td>\n",
       "      <td>related-1;request-0;offer-0;aid_related-0;medi...</td>\n",
       "      <td>says: west side of Haiti, rest of the country ...</td>\n",
       "      <td>facade ouest d Haiti et le reste du pays aujou...</td>\n",
       "      <td>direct</td>\n",
       "    </tr>\n",
       "  </tbody>\n",
       "</table>\n",
       "</div>"
      ],
      "text/plain": [
       "   id                                         categories                                            message                                           original   genre\n",
       "0   2  related-1;request-0;offer-0;aid_related-0;medi...  Weather update - a cold front from Cuba that c...  Un front froid se retrouve sur Cuba ce matin. ...  direct\n",
       "1   7  related-1;request-0;offer-0;aid_related-1;medi...            Is the Hurricane over or is it not over                 Cyclone nan fini osinon li pa fini  direct\n",
       "2   8  related-1;request-0;offer-0;aid_related-0;medi...                    Looking for someone but no name  Patnm, di Maryani relem pou li banm nouvel li ...  direct\n",
       "3   9  related-1;request-1;offer-0;aid_related-1;medi...  UN reports Leogane 80-90 destroyed. Only Hospi...  UN reports Leogane 80-90 destroyed. Only Hospi...  direct\n",
       "4  12  related-1;request-0;offer-0;aid_related-0;medi...  says: west side of Haiti, rest of the country ...  facade ouest d Haiti et le reste du pays aujou...  direct"
      ]
     },
     "execution_count": 7,
     "metadata": {},
     "output_type": "execute_result"
    }
   ],
   "source": [
    "# merge datasets\n",
    "df = pd.merge(categories,messages, how='inner', on = \"id\", sort=True,\n",
    "         suffixes=('_c', '_m'), copy=True, indicator=False,\n",
    "         validate=None)\n",
    "df.head()"
   ]
  },
  {
   "cell_type": "code",
   "execution_count": 8,
   "metadata": {},
   "outputs": [
    {
     "data": {
      "text/plain": [
       "(26386, 5)"
      ]
     },
     "execution_count": 8,
     "metadata": {},
     "output_type": "execute_result"
    }
   ],
   "source": [
    "df.shape"
   ]
  },
  {
   "cell_type": "code",
   "execution_count": 9,
   "metadata": {},
   "outputs": [
    {
     "data": {
      "text/plain": [
       "Index(['original'], dtype='object')"
      ]
     },
     "execution_count": 9,
     "metadata": {},
     "output_type": "execute_result"
    }
   ],
   "source": [
    "df.columns[df.isnull().sum()/len(df) > .45]"
   ]
  },
  {
   "cell_type": "code",
   "execution_count": 10,
   "metadata": {
    "scrolled": true
   },
   "outputs": [
    {
     "name": "stdout",
     "output_type": "stream",
     "text": [
      "<class 'pandas.core.frame.DataFrame'>\n",
      "Int64Index: 26386 entries, 0 to 26385\n",
      "Data columns (total 5 columns):\n",
      " #   Column      Non-Null Count  Dtype \n",
      "---  ------      --------------  ----- \n",
      " 0   id          26386 non-null  int64 \n",
      " 1   categories  26386 non-null  object\n",
      " 2   message     26386 non-null  object\n",
      " 3   original    10246 non-null  object\n",
      " 4   genre       26386 non-null  object\n",
      "dtypes: int64(1), object(4)\n",
      "memory usage: 1.2+ MB\n"
     ]
    }
   ],
   "source": [
    "df.info()"
   ]
  },
  {
   "cell_type": "markdown",
   "metadata": {},
   "source": [
    "### 3. Split `categories` into separate category columns.\n",
    "- Split the values in the `categories` column on the `;` character so that each value becomes a separate column. You'll find [this method](https://pandas.pydata.org/pandas-docs/version/0.23/generated/pandas.Series.str.split.html) very helpful! Make sure to set `expand=True`.\n",
    "- Use the first row of categories dataframe to create column names for the categories data.\n",
    "- Rename columns of `categories` with new column names."
   ]
  },
  {
   "cell_type": "code",
   "execution_count": 11,
   "metadata": {
    "scrolled": true
   },
   "outputs": [
    {
     "data": {
      "text/html": [
       "<div>\n",
       "<style scoped>\n",
       "    .dataframe tbody tr th:only-of-type {\n",
       "        vertical-align: middle;\n",
       "    }\n",
       "\n",
       "    .dataframe tbody tr th {\n",
       "        vertical-align: top;\n",
       "    }\n",
       "\n",
       "    .dataframe thead th {\n",
       "        text-align: right;\n",
       "    }\n",
       "</style>\n",
       "<table border=\"1\" class=\"dataframe\">\n",
       "  <thead>\n",
       "    <tr style=\"text-align: right;\">\n",
       "      <th></th>\n",
       "      <th>0</th>\n",
       "      <th>1</th>\n",
       "      <th>2</th>\n",
       "      <th>3</th>\n",
       "      <th>4</th>\n",
       "      <th>5</th>\n",
       "      <th>6</th>\n",
       "      <th>7</th>\n",
       "      <th>8</th>\n",
       "      <th>9</th>\n",
       "      <th>10</th>\n",
       "      <th>11</th>\n",
       "      <th>12</th>\n",
       "      <th>13</th>\n",
       "      <th>14</th>\n",
       "      <th>15</th>\n",
       "      <th>16</th>\n",
       "      <th>17</th>\n",
       "      <th>18</th>\n",
       "      <th>19</th>\n",
       "      <th>20</th>\n",
       "      <th>21</th>\n",
       "      <th>22</th>\n",
       "      <th>23</th>\n",
       "      <th>24</th>\n",
       "      <th>25</th>\n",
       "      <th>26</th>\n",
       "      <th>27</th>\n",
       "      <th>28</th>\n",
       "      <th>29</th>\n",
       "      <th>30</th>\n",
       "      <th>31</th>\n",
       "      <th>32</th>\n",
       "      <th>33</th>\n",
       "      <th>34</th>\n",
       "      <th>35</th>\n",
       "    </tr>\n",
       "  </thead>\n",
       "  <tbody>\n",
       "    <tr>\n",
       "      <th>0</th>\n",
       "      <td>related-1</td>\n",
       "      <td>request-0</td>\n",
       "      <td>offer-0</td>\n",
       "      <td>aid_related-0</td>\n",
       "      <td>medical_help-0</td>\n",
       "      <td>medical_products-0</td>\n",
       "      <td>search_and_rescue-0</td>\n",
       "      <td>security-0</td>\n",
       "      <td>military-0</td>\n",
       "      <td>child_alone-0</td>\n",
       "      <td>water-0</td>\n",
       "      <td>food-0</td>\n",
       "      <td>shelter-0</td>\n",
       "      <td>clothing-0</td>\n",
       "      <td>money-0</td>\n",
       "      <td>missing_people-0</td>\n",
       "      <td>refugees-0</td>\n",
       "      <td>death-0</td>\n",
       "      <td>other_aid-0</td>\n",
       "      <td>infrastructure_related-0</td>\n",
       "      <td>transport-0</td>\n",
       "      <td>buildings-0</td>\n",
       "      <td>electricity-0</td>\n",
       "      <td>tools-0</td>\n",
       "      <td>hospitals-0</td>\n",
       "      <td>shops-0</td>\n",
       "      <td>aid_centers-0</td>\n",
       "      <td>other_infrastructure-0</td>\n",
       "      <td>weather_related-0</td>\n",
       "      <td>floods-0</td>\n",
       "      <td>storm-0</td>\n",
       "      <td>fire-0</td>\n",
       "      <td>earthquake-0</td>\n",
       "      <td>cold-0</td>\n",
       "      <td>other_weather-0</td>\n",
       "      <td>direct_report-0</td>\n",
       "    </tr>\n",
       "    <tr>\n",
       "      <th>1</th>\n",
       "      <td>related-1</td>\n",
       "      <td>request-0</td>\n",
       "      <td>offer-0</td>\n",
       "      <td>aid_related-1</td>\n",
       "      <td>medical_help-0</td>\n",
       "      <td>medical_products-0</td>\n",
       "      <td>search_and_rescue-0</td>\n",
       "      <td>security-0</td>\n",
       "      <td>military-0</td>\n",
       "      <td>child_alone-0</td>\n",
       "      <td>water-0</td>\n",
       "      <td>food-0</td>\n",
       "      <td>shelter-0</td>\n",
       "      <td>clothing-0</td>\n",
       "      <td>money-0</td>\n",
       "      <td>missing_people-0</td>\n",
       "      <td>refugees-0</td>\n",
       "      <td>death-0</td>\n",
       "      <td>other_aid-1</td>\n",
       "      <td>infrastructure_related-0</td>\n",
       "      <td>transport-0</td>\n",
       "      <td>buildings-0</td>\n",
       "      <td>electricity-0</td>\n",
       "      <td>tools-0</td>\n",
       "      <td>hospitals-0</td>\n",
       "      <td>shops-0</td>\n",
       "      <td>aid_centers-0</td>\n",
       "      <td>other_infrastructure-0</td>\n",
       "      <td>weather_related-1</td>\n",
       "      <td>floods-0</td>\n",
       "      <td>storm-1</td>\n",
       "      <td>fire-0</td>\n",
       "      <td>earthquake-0</td>\n",
       "      <td>cold-0</td>\n",
       "      <td>other_weather-0</td>\n",
       "      <td>direct_report-0</td>\n",
       "    </tr>\n",
       "    <tr>\n",
       "      <th>2</th>\n",
       "      <td>related-1</td>\n",
       "      <td>request-0</td>\n",
       "      <td>offer-0</td>\n",
       "      <td>aid_related-0</td>\n",
       "      <td>medical_help-0</td>\n",
       "      <td>medical_products-0</td>\n",
       "      <td>search_and_rescue-0</td>\n",
       "      <td>security-0</td>\n",
       "      <td>military-0</td>\n",
       "      <td>child_alone-0</td>\n",
       "      <td>water-0</td>\n",
       "      <td>food-0</td>\n",
       "      <td>shelter-0</td>\n",
       "      <td>clothing-0</td>\n",
       "      <td>money-0</td>\n",
       "      <td>missing_people-0</td>\n",
       "      <td>refugees-0</td>\n",
       "      <td>death-0</td>\n",
       "      <td>other_aid-0</td>\n",
       "      <td>infrastructure_related-0</td>\n",
       "      <td>transport-0</td>\n",
       "      <td>buildings-0</td>\n",
       "      <td>electricity-0</td>\n",
       "      <td>tools-0</td>\n",
       "      <td>hospitals-0</td>\n",
       "      <td>shops-0</td>\n",
       "      <td>aid_centers-0</td>\n",
       "      <td>other_infrastructure-0</td>\n",
       "      <td>weather_related-0</td>\n",
       "      <td>floods-0</td>\n",
       "      <td>storm-0</td>\n",
       "      <td>fire-0</td>\n",
       "      <td>earthquake-0</td>\n",
       "      <td>cold-0</td>\n",
       "      <td>other_weather-0</td>\n",
       "      <td>direct_report-0</td>\n",
       "    </tr>\n",
       "    <tr>\n",
       "      <th>3</th>\n",
       "      <td>related-1</td>\n",
       "      <td>request-1</td>\n",
       "      <td>offer-0</td>\n",
       "      <td>aid_related-1</td>\n",
       "      <td>medical_help-0</td>\n",
       "      <td>medical_products-1</td>\n",
       "      <td>search_and_rescue-0</td>\n",
       "      <td>security-0</td>\n",
       "      <td>military-0</td>\n",
       "      <td>child_alone-0</td>\n",
       "      <td>water-0</td>\n",
       "      <td>food-0</td>\n",
       "      <td>shelter-0</td>\n",
       "      <td>clothing-0</td>\n",
       "      <td>money-0</td>\n",
       "      <td>missing_people-0</td>\n",
       "      <td>refugees-0</td>\n",
       "      <td>death-0</td>\n",
       "      <td>other_aid-1</td>\n",
       "      <td>infrastructure_related-1</td>\n",
       "      <td>transport-0</td>\n",
       "      <td>buildings-1</td>\n",
       "      <td>electricity-0</td>\n",
       "      <td>tools-0</td>\n",
       "      <td>hospitals-1</td>\n",
       "      <td>shops-0</td>\n",
       "      <td>aid_centers-0</td>\n",
       "      <td>other_infrastructure-0</td>\n",
       "      <td>weather_related-0</td>\n",
       "      <td>floods-0</td>\n",
       "      <td>storm-0</td>\n",
       "      <td>fire-0</td>\n",
       "      <td>earthquake-0</td>\n",
       "      <td>cold-0</td>\n",
       "      <td>other_weather-0</td>\n",
       "      <td>direct_report-0</td>\n",
       "    </tr>\n",
       "    <tr>\n",
       "      <th>4</th>\n",
       "      <td>related-1</td>\n",
       "      <td>request-0</td>\n",
       "      <td>offer-0</td>\n",
       "      <td>aid_related-0</td>\n",
       "      <td>medical_help-0</td>\n",
       "      <td>medical_products-0</td>\n",
       "      <td>search_and_rescue-0</td>\n",
       "      <td>security-0</td>\n",
       "      <td>military-0</td>\n",
       "      <td>child_alone-0</td>\n",
       "      <td>water-0</td>\n",
       "      <td>food-0</td>\n",
       "      <td>shelter-0</td>\n",
       "      <td>clothing-0</td>\n",
       "      <td>money-0</td>\n",
       "      <td>missing_people-0</td>\n",
       "      <td>refugees-0</td>\n",
       "      <td>death-0</td>\n",
       "      <td>other_aid-0</td>\n",
       "      <td>infrastructure_related-0</td>\n",
       "      <td>transport-0</td>\n",
       "      <td>buildings-0</td>\n",
       "      <td>electricity-0</td>\n",
       "      <td>tools-0</td>\n",
       "      <td>hospitals-0</td>\n",
       "      <td>shops-0</td>\n",
       "      <td>aid_centers-0</td>\n",
       "      <td>other_infrastructure-0</td>\n",
       "      <td>weather_related-0</td>\n",
       "      <td>floods-0</td>\n",
       "      <td>storm-0</td>\n",
       "      <td>fire-0</td>\n",
       "      <td>earthquake-0</td>\n",
       "      <td>cold-0</td>\n",
       "      <td>other_weather-0</td>\n",
       "      <td>direct_report-0</td>\n",
       "    </tr>\n",
       "  </tbody>\n",
       "</table>\n",
       "</div>"
      ],
      "text/plain": [
       "           0          1        2              3               4                   5                    6           7           8              9       10      11         12          13       14                15          16       17           18                        19           20           21             22       23           24       25             26                      27                 28        29       30      31            32      33               34               35\n",
       "0  related-1  request-0  offer-0  aid_related-0  medical_help-0  medical_products-0  search_and_rescue-0  security-0  military-0  child_alone-0  water-0  food-0  shelter-0  clothing-0  money-0  missing_people-0  refugees-0  death-0  other_aid-0  infrastructure_related-0  transport-0  buildings-0  electricity-0  tools-0  hospitals-0  shops-0  aid_centers-0  other_infrastructure-0  weather_related-0  floods-0  storm-0  fire-0  earthquake-0  cold-0  other_weather-0  direct_report-0\n",
       "1  related-1  request-0  offer-0  aid_related-1  medical_help-0  medical_products-0  search_and_rescue-0  security-0  military-0  child_alone-0  water-0  food-0  shelter-0  clothing-0  money-0  missing_people-0  refugees-0  death-0  other_aid-1  infrastructure_related-0  transport-0  buildings-0  electricity-0  tools-0  hospitals-0  shops-0  aid_centers-0  other_infrastructure-0  weather_related-1  floods-0  storm-1  fire-0  earthquake-0  cold-0  other_weather-0  direct_report-0\n",
       "2  related-1  request-0  offer-0  aid_related-0  medical_help-0  medical_products-0  search_and_rescue-0  security-0  military-0  child_alone-0  water-0  food-0  shelter-0  clothing-0  money-0  missing_people-0  refugees-0  death-0  other_aid-0  infrastructure_related-0  transport-0  buildings-0  electricity-0  tools-0  hospitals-0  shops-0  aid_centers-0  other_infrastructure-0  weather_related-0  floods-0  storm-0  fire-0  earthquake-0  cold-0  other_weather-0  direct_report-0\n",
       "3  related-1  request-1  offer-0  aid_related-1  medical_help-0  medical_products-1  search_and_rescue-0  security-0  military-0  child_alone-0  water-0  food-0  shelter-0  clothing-0  money-0  missing_people-0  refugees-0  death-0  other_aid-1  infrastructure_related-1  transport-0  buildings-1  electricity-0  tools-0  hospitals-1  shops-0  aid_centers-0  other_infrastructure-0  weather_related-0  floods-0  storm-0  fire-0  earthquake-0  cold-0  other_weather-0  direct_report-0\n",
       "4  related-1  request-0  offer-0  aid_related-0  medical_help-0  medical_products-0  search_and_rescue-0  security-0  military-0  child_alone-0  water-0  food-0  shelter-0  clothing-0  money-0  missing_people-0  refugees-0  death-0  other_aid-0  infrastructure_related-0  transport-0  buildings-0  electricity-0  tools-0  hospitals-0  shops-0  aid_centers-0  other_infrastructure-0  weather_related-0  floods-0  storm-0  fire-0  earthquake-0  cold-0  other_weather-0  direct_report-0"
      ]
     },
     "execution_count": 11,
     "metadata": {},
     "output_type": "execute_result"
    }
   ],
   "source": [
    "# create a dataframe of the 36 individual category columns\n",
    "categories = df['categories'].str.split(\";\", expand=True)\n",
    "categories.head()"
   ]
  },
  {
   "cell_type": "code",
   "execution_count": 12,
   "metadata": {
    "scrolled": true
   },
   "outputs": [
    {
     "data": {
      "text/plain": [
       "0                    related-1\n",
       "1                    request-0\n",
       "2                      offer-0\n",
       "3                aid_related-0\n",
       "4               medical_help-0\n",
       "5           medical_products-0\n",
       "6          search_and_rescue-0\n",
       "7                   security-0\n",
       "8                   military-0\n",
       "9                child_alone-0\n",
       "10                     water-0\n",
       "11                      food-0\n",
       "12                   shelter-0\n",
       "13                  clothing-0\n",
       "14                     money-0\n",
       "15            missing_people-0\n",
       "16                  refugees-0\n",
       "17                     death-0\n",
       "18                 other_aid-0\n",
       "19    infrastructure_related-0\n",
       "20                 transport-0\n",
       "21                 buildings-0\n",
       "22               electricity-0\n",
       "23                     tools-0\n",
       "24                 hospitals-0\n",
       "25                     shops-0\n",
       "26               aid_centers-0\n",
       "27      other_infrastructure-0\n",
       "28           weather_related-0\n",
       "29                    floods-0\n",
       "30                     storm-0\n",
       "31                      fire-0\n",
       "32                earthquake-0\n",
       "33                      cold-0\n",
       "34             other_weather-0\n",
       "35             direct_report-0\n",
       "Name: 0, dtype: object"
      ]
     },
     "execution_count": 12,
     "metadata": {},
     "output_type": "execute_result"
    }
   ],
   "source": [
    "categories.iloc[0,:]"
   ]
  },
  {
   "cell_type": "code",
   "execution_count": 13,
   "metadata": {
    "scrolled": true
   },
   "outputs": [
    {
     "name": "stdout",
     "output_type": "stream",
     "text": [
      "                         0\n",
      "0                  related\n",
      "1                  request\n",
      "2                    offer\n",
      "3              aid_related\n",
      "4             medical_help\n",
      "5         medical_products\n",
      "6        search_and_rescue\n",
      "7                 security\n",
      "8                 military\n",
      "9              child_alone\n",
      "10                   water\n",
      "11                    food\n",
      "12                 shelter\n",
      "13                clothing\n",
      "14                   money\n",
      "15          missing_people\n",
      "16                refugees\n",
      "17                   death\n",
      "18               other_aid\n",
      "19  infrastructure_related\n",
      "20               transport\n",
      "21               buildings\n",
      "22             electricity\n",
      "23                   tools\n",
      "24               hospitals\n",
      "25                   shops\n",
      "26             aid_centers\n",
      "27    other_infrastructure\n",
      "28         weather_related\n",
      "29                  floods\n",
      "30                   storm\n",
      "31                    fire\n",
      "32              earthquake\n",
      "33                    cold\n",
      "34           other_weather\n",
      "35           direct_report\n"
     ]
    }
   ],
   "source": [
    "# select the first row of the categories dataframe\n",
    "row = categories.iloc[0,:]\n",
    "\n",
    "# use this row to extract a list of new column names for categories.\n",
    "# one way is to apply a lambda function that takes everything \n",
    "# up to the second to last character of each string with slicing\n",
    "category_colnames = row.apply(lambda x: pd.Series(x[:-2]))\n",
    "print(category_colnames)"
   ]
  },
  {
   "cell_type": "code",
   "execution_count": 14,
   "metadata": {},
   "outputs": [
    {
     "data": {
      "text/plain": [
       "0                    related\n",
       "1                    request\n",
       "2                      offer\n",
       "3                aid_related\n",
       "4               medical_help\n",
       "5           medical_products\n",
       "6          search_and_rescue\n",
       "7                   security\n",
       "8                   military\n",
       "9                child_alone\n",
       "10                     water\n",
       "11                      food\n",
       "12                   shelter\n",
       "13                  clothing\n",
       "14                     money\n",
       "15            missing_people\n",
       "16                  refugees\n",
       "17                     death\n",
       "18                 other_aid\n",
       "19    infrastructure_related\n",
       "20                 transport\n",
       "21                 buildings\n",
       "22               electricity\n",
       "23                     tools\n",
       "24                 hospitals\n",
       "25                     shops\n",
       "26               aid_centers\n",
       "27      other_infrastructure\n",
       "28           weather_related\n",
       "29                    floods\n",
       "30                     storm\n",
       "31                      fire\n",
       "32                earthquake\n",
       "33                      cold\n",
       "34             other_weather\n",
       "35             direct_report\n",
       "Name: 0, dtype: object"
      ]
     },
     "execution_count": 14,
     "metadata": {},
     "output_type": "execute_result"
    }
   ],
   "source": [
    "category_colnames.loc[:,0]"
   ]
  },
  {
   "cell_type": "code",
   "execution_count": 15,
   "metadata": {},
   "outputs": [
    {
     "data": {
      "text/html": [
       "<div>\n",
       "<style scoped>\n",
       "    .dataframe tbody tr th:only-of-type {\n",
       "        vertical-align: middle;\n",
       "    }\n",
       "\n",
       "    .dataframe tbody tr th {\n",
       "        vertical-align: top;\n",
       "    }\n",
       "\n",
       "    .dataframe thead th {\n",
       "        text-align: right;\n",
       "    }\n",
       "</style>\n",
       "<table border=\"1\" class=\"dataframe\">\n",
       "  <thead>\n",
       "    <tr style=\"text-align: right;\">\n",
       "      <th></th>\n",
       "      <th>0</th>\n",
       "    </tr>\n",
       "  </thead>\n",
       "  <tbody>\n",
       "    <tr>\n",
       "      <th>0</th>\n",
       "      <td>related</td>\n",
       "    </tr>\n",
       "    <tr>\n",
       "      <th>1</th>\n",
       "      <td>request</td>\n",
       "    </tr>\n",
       "    <tr>\n",
       "      <th>2</th>\n",
       "      <td>offer</td>\n",
       "    </tr>\n",
       "    <tr>\n",
       "      <th>3</th>\n",
       "      <td>aid_related</td>\n",
       "    </tr>\n",
       "    <tr>\n",
       "      <th>4</th>\n",
       "      <td>medical_help</td>\n",
       "    </tr>\n",
       "  </tbody>\n",
       "</table>\n",
       "</div>"
      ],
      "text/plain": [
       "              0\n",
       "0       related\n",
       "1       request\n",
       "2         offer\n",
       "3   aid_related\n",
       "4  medical_help"
      ]
     },
     "execution_count": 15,
     "metadata": {},
     "output_type": "execute_result"
    }
   ],
   "source": [
    "category_colnames.head()"
   ]
  },
  {
   "cell_type": "code",
   "execution_count": 16,
   "metadata": {},
   "outputs": [
    {
     "data": {
      "text/plain": [
       "pandas.core.series.Series"
      ]
     },
     "execution_count": 16,
     "metadata": {},
     "output_type": "execute_result"
    }
   ],
   "source": [
    "type(row)"
   ]
  },
  {
   "cell_type": "code",
   "execution_count": 17,
   "metadata": {},
   "outputs": [
    {
     "data": {
      "text/plain": [
       "pandas.core.frame.DataFrame"
      ]
     },
     "execution_count": 17,
     "metadata": {},
     "output_type": "execute_result"
    }
   ],
   "source": [
    "type(category_colnames)"
   ]
  },
  {
   "cell_type": "code",
   "execution_count": 18,
   "metadata": {
    "scrolled": false
   },
   "outputs": [
    {
     "data": {
      "text/html": [
       "<div>\n",
       "<style scoped>\n",
       "    .dataframe tbody tr th:only-of-type {\n",
       "        vertical-align: middle;\n",
       "    }\n",
       "\n",
       "    .dataframe tbody tr th {\n",
       "        vertical-align: top;\n",
       "    }\n",
       "\n",
       "    .dataframe thead th {\n",
       "        text-align: right;\n",
       "    }\n",
       "</style>\n",
       "<table border=\"1\" class=\"dataframe\">\n",
       "  <thead>\n",
       "    <tr style=\"text-align: right;\">\n",
       "      <th></th>\n",
       "      <th>related</th>\n",
       "      <th>request</th>\n",
       "      <th>offer</th>\n",
       "      <th>aid_related</th>\n",
       "      <th>medical_help</th>\n",
       "      <th>medical_products</th>\n",
       "      <th>search_and_rescue</th>\n",
       "      <th>security</th>\n",
       "      <th>military</th>\n",
       "      <th>child_alone</th>\n",
       "      <th>water</th>\n",
       "      <th>food</th>\n",
       "      <th>shelter</th>\n",
       "      <th>clothing</th>\n",
       "      <th>money</th>\n",
       "      <th>missing_people</th>\n",
       "      <th>refugees</th>\n",
       "      <th>death</th>\n",
       "      <th>other_aid</th>\n",
       "      <th>infrastructure_related</th>\n",
       "      <th>transport</th>\n",
       "      <th>buildings</th>\n",
       "      <th>electricity</th>\n",
       "      <th>tools</th>\n",
       "      <th>hospitals</th>\n",
       "      <th>shops</th>\n",
       "      <th>aid_centers</th>\n",
       "      <th>other_infrastructure</th>\n",
       "      <th>weather_related</th>\n",
       "      <th>floods</th>\n",
       "      <th>storm</th>\n",
       "      <th>fire</th>\n",
       "      <th>earthquake</th>\n",
       "      <th>cold</th>\n",
       "      <th>other_weather</th>\n",
       "      <th>direct_report</th>\n",
       "    </tr>\n",
       "  </thead>\n",
       "  <tbody>\n",
       "    <tr>\n",
       "      <th>0</th>\n",
       "      <td>related-1</td>\n",
       "      <td>request-0</td>\n",
       "      <td>offer-0</td>\n",
       "      <td>aid_related-0</td>\n",
       "      <td>medical_help-0</td>\n",
       "      <td>medical_products-0</td>\n",
       "      <td>search_and_rescue-0</td>\n",
       "      <td>security-0</td>\n",
       "      <td>military-0</td>\n",
       "      <td>child_alone-0</td>\n",
       "      <td>water-0</td>\n",
       "      <td>food-0</td>\n",
       "      <td>shelter-0</td>\n",
       "      <td>clothing-0</td>\n",
       "      <td>money-0</td>\n",
       "      <td>missing_people-0</td>\n",
       "      <td>refugees-0</td>\n",
       "      <td>death-0</td>\n",
       "      <td>other_aid-0</td>\n",
       "      <td>infrastructure_related-0</td>\n",
       "      <td>transport-0</td>\n",
       "      <td>buildings-0</td>\n",
       "      <td>electricity-0</td>\n",
       "      <td>tools-0</td>\n",
       "      <td>hospitals-0</td>\n",
       "      <td>shops-0</td>\n",
       "      <td>aid_centers-0</td>\n",
       "      <td>other_infrastructure-0</td>\n",
       "      <td>weather_related-0</td>\n",
       "      <td>floods-0</td>\n",
       "      <td>storm-0</td>\n",
       "      <td>fire-0</td>\n",
       "      <td>earthquake-0</td>\n",
       "      <td>cold-0</td>\n",
       "      <td>other_weather-0</td>\n",
       "      <td>direct_report-0</td>\n",
       "    </tr>\n",
       "    <tr>\n",
       "      <th>1</th>\n",
       "      <td>related-1</td>\n",
       "      <td>request-0</td>\n",
       "      <td>offer-0</td>\n",
       "      <td>aid_related-1</td>\n",
       "      <td>medical_help-0</td>\n",
       "      <td>medical_products-0</td>\n",
       "      <td>search_and_rescue-0</td>\n",
       "      <td>security-0</td>\n",
       "      <td>military-0</td>\n",
       "      <td>child_alone-0</td>\n",
       "      <td>water-0</td>\n",
       "      <td>food-0</td>\n",
       "      <td>shelter-0</td>\n",
       "      <td>clothing-0</td>\n",
       "      <td>money-0</td>\n",
       "      <td>missing_people-0</td>\n",
       "      <td>refugees-0</td>\n",
       "      <td>death-0</td>\n",
       "      <td>other_aid-1</td>\n",
       "      <td>infrastructure_related-0</td>\n",
       "      <td>transport-0</td>\n",
       "      <td>buildings-0</td>\n",
       "      <td>electricity-0</td>\n",
       "      <td>tools-0</td>\n",
       "      <td>hospitals-0</td>\n",
       "      <td>shops-0</td>\n",
       "      <td>aid_centers-0</td>\n",
       "      <td>other_infrastructure-0</td>\n",
       "      <td>weather_related-1</td>\n",
       "      <td>floods-0</td>\n",
       "      <td>storm-1</td>\n",
       "      <td>fire-0</td>\n",
       "      <td>earthquake-0</td>\n",
       "      <td>cold-0</td>\n",
       "      <td>other_weather-0</td>\n",
       "      <td>direct_report-0</td>\n",
       "    </tr>\n",
       "    <tr>\n",
       "      <th>2</th>\n",
       "      <td>related-1</td>\n",
       "      <td>request-0</td>\n",
       "      <td>offer-0</td>\n",
       "      <td>aid_related-0</td>\n",
       "      <td>medical_help-0</td>\n",
       "      <td>medical_products-0</td>\n",
       "      <td>search_and_rescue-0</td>\n",
       "      <td>security-0</td>\n",
       "      <td>military-0</td>\n",
       "      <td>child_alone-0</td>\n",
       "      <td>water-0</td>\n",
       "      <td>food-0</td>\n",
       "      <td>shelter-0</td>\n",
       "      <td>clothing-0</td>\n",
       "      <td>money-0</td>\n",
       "      <td>missing_people-0</td>\n",
       "      <td>refugees-0</td>\n",
       "      <td>death-0</td>\n",
       "      <td>other_aid-0</td>\n",
       "      <td>infrastructure_related-0</td>\n",
       "      <td>transport-0</td>\n",
       "      <td>buildings-0</td>\n",
       "      <td>electricity-0</td>\n",
       "      <td>tools-0</td>\n",
       "      <td>hospitals-0</td>\n",
       "      <td>shops-0</td>\n",
       "      <td>aid_centers-0</td>\n",
       "      <td>other_infrastructure-0</td>\n",
       "      <td>weather_related-0</td>\n",
       "      <td>floods-0</td>\n",
       "      <td>storm-0</td>\n",
       "      <td>fire-0</td>\n",
       "      <td>earthquake-0</td>\n",
       "      <td>cold-0</td>\n",
       "      <td>other_weather-0</td>\n",
       "      <td>direct_report-0</td>\n",
       "    </tr>\n",
       "    <tr>\n",
       "      <th>3</th>\n",
       "      <td>related-1</td>\n",
       "      <td>request-1</td>\n",
       "      <td>offer-0</td>\n",
       "      <td>aid_related-1</td>\n",
       "      <td>medical_help-0</td>\n",
       "      <td>medical_products-1</td>\n",
       "      <td>search_and_rescue-0</td>\n",
       "      <td>security-0</td>\n",
       "      <td>military-0</td>\n",
       "      <td>child_alone-0</td>\n",
       "      <td>water-0</td>\n",
       "      <td>food-0</td>\n",
       "      <td>shelter-0</td>\n",
       "      <td>clothing-0</td>\n",
       "      <td>money-0</td>\n",
       "      <td>missing_people-0</td>\n",
       "      <td>refugees-0</td>\n",
       "      <td>death-0</td>\n",
       "      <td>other_aid-1</td>\n",
       "      <td>infrastructure_related-1</td>\n",
       "      <td>transport-0</td>\n",
       "      <td>buildings-1</td>\n",
       "      <td>electricity-0</td>\n",
       "      <td>tools-0</td>\n",
       "      <td>hospitals-1</td>\n",
       "      <td>shops-0</td>\n",
       "      <td>aid_centers-0</td>\n",
       "      <td>other_infrastructure-0</td>\n",
       "      <td>weather_related-0</td>\n",
       "      <td>floods-0</td>\n",
       "      <td>storm-0</td>\n",
       "      <td>fire-0</td>\n",
       "      <td>earthquake-0</td>\n",
       "      <td>cold-0</td>\n",
       "      <td>other_weather-0</td>\n",
       "      <td>direct_report-0</td>\n",
       "    </tr>\n",
       "    <tr>\n",
       "      <th>4</th>\n",
       "      <td>related-1</td>\n",
       "      <td>request-0</td>\n",
       "      <td>offer-0</td>\n",
       "      <td>aid_related-0</td>\n",
       "      <td>medical_help-0</td>\n",
       "      <td>medical_products-0</td>\n",
       "      <td>search_and_rescue-0</td>\n",
       "      <td>security-0</td>\n",
       "      <td>military-0</td>\n",
       "      <td>child_alone-0</td>\n",
       "      <td>water-0</td>\n",
       "      <td>food-0</td>\n",
       "      <td>shelter-0</td>\n",
       "      <td>clothing-0</td>\n",
       "      <td>money-0</td>\n",
       "      <td>missing_people-0</td>\n",
       "      <td>refugees-0</td>\n",
       "      <td>death-0</td>\n",
       "      <td>other_aid-0</td>\n",
       "      <td>infrastructure_related-0</td>\n",
       "      <td>transport-0</td>\n",
       "      <td>buildings-0</td>\n",
       "      <td>electricity-0</td>\n",
       "      <td>tools-0</td>\n",
       "      <td>hospitals-0</td>\n",
       "      <td>shops-0</td>\n",
       "      <td>aid_centers-0</td>\n",
       "      <td>other_infrastructure-0</td>\n",
       "      <td>weather_related-0</td>\n",
       "      <td>floods-0</td>\n",
       "      <td>storm-0</td>\n",
       "      <td>fire-0</td>\n",
       "      <td>earthquake-0</td>\n",
       "      <td>cold-0</td>\n",
       "      <td>other_weather-0</td>\n",
       "      <td>direct_report-0</td>\n",
       "    </tr>\n",
       "  </tbody>\n",
       "</table>\n",
       "</div>"
      ],
      "text/plain": [
       "0    related    request    offer    aid_related    medical_help    medical_products    search_and_rescue    security    military    child_alone    water    food    shelter    clothing    money    missing_people    refugees    death    other_aid    infrastructure_related    transport    buildings    electricity    tools    hospitals    shops    aid_centers    other_infrastructure    weather_related    floods    storm    fire    earthquake    cold    other_weather    direct_report\n",
       "0  related-1  request-0  offer-0  aid_related-0  medical_help-0  medical_products-0  search_and_rescue-0  security-0  military-0  child_alone-0  water-0  food-0  shelter-0  clothing-0  money-0  missing_people-0  refugees-0  death-0  other_aid-0  infrastructure_related-0  transport-0  buildings-0  electricity-0  tools-0  hospitals-0  shops-0  aid_centers-0  other_infrastructure-0  weather_related-0  floods-0  storm-0  fire-0  earthquake-0  cold-0  other_weather-0  direct_report-0\n",
       "1  related-1  request-0  offer-0  aid_related-1  medical_help-0  medical_products-0  search_and_rescue-0  security-0  military-0  child_alone-0  water-0  food-0  shelter-0  clothing-0  money-0  missing_people-0  refugees-0  death-0  other_aid-1  infrastructure_related-0  transport-0  buildings-0  electricity-0  tools-0  hospitals-0  shops-0  aid_centers-0  other_infrastructure-0  weather_related-1  floods-0  storm-1  fire-0  earthquake-0  cold-0  other_weather-0  direct_report-0\n",
       "2  related-1  request-0  offer-0  aid_related-0  medical_help-0  medical_products-0  search_and_rescue-0  security-0  military-0  child_alone-0  water-0  food-0  shelter-0  clothing-0  money-0  missing_people-0  refugees-0  death-0  other_aid-0  infrastructure_related-0  transport-0  buildings-0  electricity-0  tools-0  hospitals-0  shops-0  aid_centers-0  other_infrastructure-0  weather_related-0  floods-0  storm-0  fire-0  earthquake-0  cold-0  other_weather-0  direct_report-0\n",
       "3  related-1  request-1  offer-0  aid_related-1  medical_help-0  medical_products-1  search_and_rescue-0  security-0  military-0  child_alone-0  water-0  food-0  shelter-0  clothing-0  money-0  missing_people-0  refugees-0  death-0  other_aid-1  infrastructure_related-1  transport-0  buildings-1  electricity-0  tools-0  hospitals-1  shops-0  aid_centers-0  other_infrastructure-0  weather_related-0  floods-0  storm-0  fire-0  earthquake-0  cold-0  other_weather-0  direct_report-0\n",
       "4  related-1  request-0  offer-0  aid_related-0  medical_help-0  medical_products-0  search_and_rescue-0  security-0  military-0  child_alone-0  water-0  food-0  shelter-0  clothing-0  money-0  missing_people-0  refugees-0  death-0  other_aid-0  infrastructure_related-0  transport-0  buildings-0  electricity-0  tools-0  hospitals-0  shops-0  aid_centers-0  other_infrastructure-0  weather_related-0  floods-0  storm-0  fire-0  earthquake-0  cold-0  other_weather-0  direct_report-0"
      ]
     },
     "execution_count": 18,
     "metadata": {},
     "output_type": "execute_result"
    }
   ],
   "source": [
    "# rename the columns of `categories`\n",
    "categories.columns = category_colnames.loc[:,0]\n",
    "categories.head()"
   ]
  },
  {
   "cell_type": "code",
   "execution_count": 19,
   "metadata": {},
   "outputs": [
    {
     "data": {
      "text/plain": [
       "pandas.core.indexes.base.Index"
      ]
     },
     "execution_count": 19,
     "metadata": {},
     "output_type": "execute_result"
    }
   ],
   "source": [
    "type(categories.columns)"
   ]
  },
  {
   "cell_type": "code",
   "execution_count": 20,
   "metadata": {},
   "outputs": [
    {
     "data": {
      "text/plain": [
       "pandas.core.frame.DataFrame"
      ]
     },
     "execution_count": 20,
     "metadata": {},
     "output_type": "execute_result"
    }
   ],
   "source": [
    "type(categories)"
   ]
  },
  {
   "cell_type": "code",
   "execution_count": 21,
   "metadata": {
    "scrolled": true
   },
   "outputs": [
    {
     "data": {
      "text/plain": [
       "Index(['related', 'request', 'offer', 'aid_related', 'medical_help', 'medical_products', 'search_and_rescue', 'security', 'military', 'child_alone', 'water', 'food', 'shelter', 'clothing', 'money', 'missing_people', 'refugees', 'death', 'other_aid', 'infrastructure_related', 'transport', 'buildings', 'electricity', 'tools', 'hospitals', 'shops', 'aid_centers', 'other_infrastructure', 'weather_related', 'floods', 'storm', 'fire', 'earthquake', 'cold', 'other_weather', 'direct_report'], dtype='object', name=0)"
      ]
     },
     "execution_count": 21,
     "metadata": {},
     "output_type": "execute_result"
    }
   ],
   "source": [
    "categories.columns"
   ]
  },
  {
   "cell_type": "markdown",
   "metadata": {},
   "source": [
    "### 4. Convert category values to just numbers 0 or 1.\n",
    "- Iterate through the category columns in df to keep only the last character of each string (the 1 or 0). For example, `related-0` becomes `0`, `related-1` becomes `1`. Convert the string to a numeric value.\n",
    "- You can perform [normal string actions on Pandas Series](https://pandas.pydata.org/pandas-docs/stable/text.html#indexing-with-str), like indexing, by including `.str` after the Series. You may need to first convert the Series to be of type string, which you can do with `astype(str)`."
   ]
  },
  {
   "cell_type": "code",
   "execution_count": 22,
   "metadata": {
    "scrolled": false
   },
   "outputs": [
    {
     "data": {
      "text/plain": [
       "'1'"
      ]
     },
     "execution_count": 22,
     "metadata": {},
     "output_type": "execute_result"
    }
   ],
   "source": [
    "categories.values[0][0][-1]"
   ]
  },
  {
   "cell_type": "code",
   "execution_count": 23,
   "metadata": {},
   "outputs": [
    {
     "data": {
      "text/plain": [
       "0        related-1\n",
       "1        related-1\n",
       "2        related-1\n",
       "3        related-1\n",
       "4        related-1\n",
       "           ...    \n",
       "26381    related-0\n",
       "26382    related-0\n",
       "26383    related-1\n",
       "26384    related-1\n",
       "26385    related-1\n",
       "Name: related, Length: 26386, dtype: object"
      ]
     },
     "execution_count": 23,
     "metadata": {},
     "output_type": "execute_result"
    }
   ],
   "source": [
    "categories.iloc[:,0]"
   ]
  },
  {
   "cell_type": "code",
   "execution_count": 24,
   "metadata": {},
   "outputs": [
    {
     "data": {
      "text/plain": [
       "(26386, 36)"
      ]
     },
     "execution_count": 24,
     "metadata": {},
     "output_type": "execute_result"
    }
   ],
   "source": [
    "categories.shape"
   ]
  },
  {
   "cell_type": "code",
   "execution_count": 25,
   "metadata": {
    "scrolled": true
   },
   "outputs": [
    {
     "ename": "NameError",
     "evalue": "name 'vals' is not defined",
     "output_type": "error",
     "traceback": [
      "\u001b[1;31m---------------------------------------------------------------------------\u001b[0m",
      "\u001b[1;31mNameError\u001b[0m                                 Traceback (most recent call last)",
      "\u001b[1;32m<ipython-input-25-8c6e2e98b1c3>\u001b[0m in \u001b[0;36m<module>\u001b[1;34m\u001b[0m\n\u001b[1;32m----> 1\u001b[1;33m \u001b[0mvals\u001b[0m\u001b[1;33m.\u001b[0m\u001b[0mstr\u001b[0m\u001b[1;33m.\u001b[0m\u001b[0msplit\u001b[0m\u001b[1;33m(\u001b[0m\u001b[1;34m'-'\u001b[0m\u001b[1;33m,\u001b[0m \u001b[1;36m1\u001b[0m\u001b[1;33m)\u001b[0m\u001b[1;33m\u001b[0m\u001b[1;33m\u001b[0m\u001b[0m\n\u001b[0m",
      "\u001b[1;31mNameError\u001b[0m: name 'vals' is not defined"
     ]
    }
   ],
   "source": [
    "vals.str.split('-', 1)"
   ]
  },
  {
   "cell_type": "code",
   "execution_count": null,
   "metadata": {},
   "outputs": [],
   "source": [
    "cat=categories.copy()"
   ]
  },
  {
   "cell_type": "code",
   "execution_count": null,
   "metadata": {},
   "outputs": [],
   "source": [
    "for column in cat:\n",
    "    # set each value to be the last character of the string\n",
    "    for value in column:\n",
    "        cat[column] = [x.split('-')[-1] for x in cat.iloc[:,0]]\n",
    "cat.head(3)"
   ]
  },
  {
   "cell_type": "code",
   "execution_count": null,
   "metadata": {
    "scrolled": false
   },
   "outputs": [],
   "source": [
    "cat.tail()"
   ]
  },
  {
   "cell_type": "code",
   "execution_count": null,
   "metadata": {
    "scrolled": true
   },
   "outputs": [],
   "source": [
    "    # convert column from string to numeric\n",
    "cat = cat.astype(int)\n",
    "cat.dtypes"
   ]
  },
  {
   "cell_type": "code",
   "execution_count": null,
   "metadata": {},
   "outputs": [],
   "source": [
    "cat.sample(3)"
   ]
  },
  {
   "cell_type": "markdown",
   "metadata": {},
   "source": [
    "### 5. Replace `categories` column in `df` with new category columns.\n",
    "- Drop the categories column from the df dataframe since it is no longer needed.\n",
    "- Concatenate df and categories data frames."
   ]
  },
  {
   "cell_type": "code",
   "execution_count": null,
   "metadata": {
    "scrolled": true
   },
   "outputs": [],
   "source": [
    "df.head()"
   ]
  },
  {
   "cell_type": "code",
   "execution_count": null,
   "metadata": {},
   "outputs": [],
   "source": [
    "# drop the original categories column from `df`\n",
    "\n",
    "# concatenate the original dataframe with the new `categories` dataframe\n",
    "df = pd.concat([df.drop('categories',axis=1),cat],axis=1)\n",
    "df.head()"
   ]
  },
  {
   "cell_type": "markdown",
   "metadata": {},
   "source": [
    "### 6. Remove duplicates.\n",
    "- Check how many duplicates are in this dataset.\n",
    "- Drop the duplicates.\n",
    "- Confirm duplicates were removed."
   ]
  },
  {
   "cell_type": "code",
   "execution_count": null,
   "metadata": {},
   "outputs": [],
   "source": [
    "df.duplicated(['id']).sum() == 0"
   ]
  },
  {
   "cell_type": "code",
   "execution_count": null,
   "metadata": {},
   "outputs": [],
   "source": [
    "# check number of duplicates\n",
    "print(sum(df.duplicated()))"
   ]
  },
  {
   "cell_type": "code",
   "execution_count": null,
   "metadata": {},
   "outputs": [],
   "source": [
    "ids = df[\"id\"]\n",
    "df[ids.isin(ids[ids.duplicated()])].sort_values(by=\"id\")"
   ]
  },
  {
   "cell_type": "code",
   "execution_count": null,
   "metadata": {},
   "outputs": [],
   "source": [
    "# drop duplicates\n",
    "df=df.drop_duplicates()"
   ]
  },
  {
   "cell_type": "code",
   "execution_count": null,
   "metadata": {},
   "outputs": [],
   "source": [
    "# check number of duplicates\n",
    "print(sum(df.duplicated()))"
   ]
  },
  {
   "cell_type": "code",
   "execution_count": null,
   "metadata": {},
   "outputs": [],
   "source": [
    "df.shape"
   ]
  },
  {
   "cell_type": "markdown",
   "metadata": {},
   "source": [
    "### 7. Save the clean dataset into an sqlite database.\n",
    "You can do this with pandas [`to_sql` method](https://pandas.pydata.org/pandas-docs/stable/generated/pandas.DataFrame.to_sql.html) combined with the SQLAlchemy library. Remember to import SQLAlchemy's `create_engine` in the first cell of this notebook to use it below."
   ]
  },
  {
   "cell_type": "code",
   "execution_count": null,
   "metadata": {},
   "outputs": [],
   "source": [
    "from sqlalchemy import create_engine \n",
    "engine = create_engine('sqlite:///InsertDatabaseName.db')\n",
    "df.to_sql('master', engine, index=False)"
   ]
  },
  {
   "cell_type": "markdown",
   "metadata": {},
   "source": [
    "### 8. Use this notebook to complete `etl_pipeline.py`\n",
    "Use the template file attached in the Resources folder to write a script that runs the steps above to create a database based on new datasets specified by the user. Alternatively, you can complete `etl_pipeline.py` in the classroom on the `Project Workspace IDE` coming later."
   ]
  },
  {
   "cell_type": "code",
   "execution_count": null,
   "metadata": {},
   "outputs": [],
   "source": [
    "df_gather = pd.read_sql('SELECT * FROM master', engine)"
   ]
  },
  {
   "cell_type": "code",
   "execution_count": null,
   "metadata": {},
   "outputs": [],
   "source": [
    "df_gather.head(2)"
   ]
  },
  {
   "cell_type": "code",
   "execution_count": null,
   "metadata": {},
   "outputs": [],
   "source": [
    "df.shape"
   ]
  }
 ],
 "metadata": {
  "kernelspec": {
   "display_name": "Python 3",
   "language": "python",
   "name": "python3"
  },
  "language_info": {
   "codemirror_mode": {
    "name": "ipython",
    "version": 3
   },
   "file_extension": ".py",
   "mimetype": "text/x-python",
   "name": "python",
   "nbconvert_exporter": "python",
   "pygments_lexer": "ipython3",
   "version": "3.8.3"
  }
 },
 "nbformat": 4,
 "nbformat_minor": 2
}
